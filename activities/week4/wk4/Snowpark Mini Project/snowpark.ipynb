{
 "cells": [
  {
   "cell_type": "markdown",
   "id": "9acd9bd4-9617-4cb3-ad07-fb5e567a05f1",
   "metadata": {},
   "source": [
    "## Installation "
   ]
  },
  {
   "cell_type": "markdown",
   "id": "68da168a-6eb0-44f1-94d6-0fd3ec7e2018",
   "metadata": {},
   "source": [
    "If you have not installed snowflake-snowpark-python you can install it here. Make sure you are in the right conda environment.\n",
    "\n",
    "If you are not sure you can try:\n",
    "\n",
    "```bash\n",
    "! which python\n",
    "```"
   ]
  },
  {
   "cell_type": "code",
   "execution_count": 1,
   "id": "121df9d6-3fb3-43b1-a260-80dd7c97d37c",
   "metadata": {},
   "outputs": [
    {
     "name": "stdout",
     "output_type": "stream",
     "text": [
      "/home/zghaffar/miniconda3/envs/notebook_env/bin/python\n"
     ]
    }
   ],
   "source": [
    "! which python"
   ]
  },
  {
   "cell_type": "markdown",
   "id": "cf463656-381e-499a-85b7-f4257707d40c",
   "metadata": {},
   "source": [
    "Install the library"
   ]
  },
  {
   "cell_type": "code",
   "execution_count": 1,
   "id": "0a721aa0-09ff-40a8-b27c-2cbbfd8c661a",
   "metadata": {
    "scrolled": true
   },
   "outputs": [
    {
     "name": "stdout",
     "output_type": "stream",
     "text": [
      "Retrieving notices: ...working... done\n",
      "Channels:\n",
      " - defaults\n",
      " - conda-forge\n",
      "Platform: linux-64\n",
      "Collecting package metadata (repodata.json): done\n",
      "Solving environment: done\n",
      "\n",
      "## Package Plan ##\n",
      "\n",
      "  environment location: /home/zghaffar/miniconda3/envs/dev1\n",
      "\n",
      "  added / updated specs:\n",
      "    - snowflake-snowpark-python\n",
      "\n",
      "\n",
      "The following packages will be downloaded:\n",
      "\n",
      "    package                    |            build\n",
      "    ---------------------------|-----------------\n",
      "    asn1crypto-1.5.1           |  py311h06a4308_0         220 KB\n",
      "    certifi-2024.7.4           |  py311h06a4308_0         159 KB\n",
      "    cloudpickle-2.2.1          |  py311h06a4308_0          51 KB\n",
      "    cryptography-42.0.5        |  py311hdda0065_1         2.1 MB\n",
      "    filelock-3.13.1            |  py311h06a4308_0          24 KB\n",
      "    pyjwt-2.8.0                |  py311h06a4308_0          85 KB\n",
      "    pyopenssl-24.0.0           |  py311h06a4308_0         124 KB\n",
      "    snowflake-connector-python-3.11.0|  py311h6a678d5_0         1.3 MB\n",
      "    snowflake-snowpark-python-1.18.0|  py311h06a4308_0         2.1 MB\n",
      "    sortedcontainers-2.4.0     |     pyhd3eb1b0_0          26 KB\n",
      "    tomlkit-0.11.1             |  py311h06a4308_0         100 KB\n",
      "    ------------------------------------------------------------\n",
      "                                           Total:         6.2 MB\n",
      "\n",
      "The following NEW packages will be INSTALLED:\n",
      "\n",
      "  asn1crypto         pkgs/main/linux-64::asn1crypto-1.5.1-py311h06a4308_0 \n",
      "  certifi            pkgs/main/linux-64::certifi-2024.7.4-py311h06a4308_0 \n",
      "  charset-normalizer pkgs/main/noarch::charset-normalizer-2.0.4-pyhd3eb1b0_0 \n",
      "  cloudpickle        pkgs/main/linux-64::cloudpickle-2.2.1-py311h06a4308_0 \n",
      "  cryptography       pkgs/main/linux-64::cryptography-42.0.5-py311hdda0065_1 \n",
      "  filelock           pkgs/main/linux-64::filelock-3.13.1-py311h06a4308_0 \n",
      "  pyjwt              pkgs/main/linux-64::pyjwt-2.8.0-py311h06a4308_0 \n",
      "  pyopenssl          pkgs/main/linux-64::pyopenssl-24.0.0-py311h06a4308_0 \n",
      "  pyyaml             pkgs/main/linux-64::pyyaml-6.0.1-py311h5eee18b_0 \n",
      "  requests           pkgs/main/linux-64::requests-2.32.2-py311h06a4308_0 \n",
      "  snowflake-connect~ pkgs/main/linux-64::snowflake-connector-python-3.11.0-py311h6a678d5_0 \n",
      "  snowflake-snowpar~ pkgs/main/linux-64::snowflake-snowpark-python-1.18.0-py311h06a4308_0 \n",
      "  sortedcontainers   pkgs/main/noarch::sortedcontainers-2.4.0-pyhd3eb1b0_0 \n",
      "  tomlkit            pkgs/main/linux-64::tomlkit-0.11.1-py311h06a4308_0 \n",
      "  typing-extensions  pkgs/main/linux-64::typing-extensions-4.11.0-py311h06a4308_0 \n",
      "  yaml               pkgs/main/linux-64::yaml-0.2.5-h7b6447c_0 \n",
      "\n",
      "\n",
      "\n",
      "Downloading and Extracting Packages:\n",
      "cryptography-42.0.5  | 2.1 MB    |                                       |   0% \n",
      "snowflake-snowpark-p | 2.1 MB    |                                       |   0% \u001b[A\n",
      "\n",
      "snowflake-connector- | 1.3 MB    |                                       |   0% \u001b[A\u001b[A\n",
      "\n",
      "\n",
      "asn1crypto-1.5.1     | 220 KB    |                                       |   0% \u001b[A\u001b[A\u001b[A\n",
      "\n",
      "\n",
      "\n",
      "certifi-2024.7.4     | 159 KB    |                                       |   0% \u001b[A\u001b[A\u001b[A\u001b[A\n",
      "\n",
      "\n",
      "\n",
      "\n",
      "pyopenssl-24.0.0     | 124 KB    |                                       |   0% \u001b[A\u001b[A\u001b[A\u001b[A\u001b[A\n",
      "\n",
      "\n",
      "\n",
      "\n",
      "\n",
      "tomlkit-0.11.1       | 100 KB    |                                       |   0% \u001b[A\u001b[A\u001b[A\u001b[A\u001b[A\u001b[A\n",
      "\n",
      "\n",
      "\n",
      "\n",
      "\n",
      "\n",
      "pyjwt-2.8.0          | 85 KB     |                                       |   0% \u001b[A\u001b[A\u001b[A\u001b[A\u001b[A\u001b[A\u001b[A\n",
      "\n",
      "\n",
      "\n",
      "\n",
      "\n",
      "\n",
      "\n",
      "cloudpickle-2.2.1    | 51 KB     |                                       |   0% \u001b[A\u001b[A\u001b[A\u001b[A\u001b[A\u001b[A\u001b[A\u001b[A\n",
      "\n",
      "\n",
      "\n",
      "\n",
      "\n",
      "\n",
      "\n",
      "\n",
      "sortedcontainers-2.4 | 26 KB     |                                       |   0% \u001b[A\u001b[A\u001b[A\u001b[A\u001b[A\u001b[A\u001b[A\u001b[A\u001b[A\n",
      "\n",
      "\n",
      "\n",
      "\n",
      "\n",
      "\n",
      "\n",
      "\n",
      "\n",
      "filelock-3.13.1      | 24 KB     |                                       |   0% \u001b[A\u001b[A\u001b[A\u001b[A\u001b[A\u001b[A\u001b[A\u001b[A\u001b[A\u001b[A\n",
      "\n",
      "\n",
      "cryptography-42.0.5  | 2.1 MB    | 2                                     |   1% \u001b[A\u001b[A\u001b[A\n",
      "\n",
      "\n",
      "\n",
      "\n",
      "pyopenssl-24.0.0     | 124 KB    | ####7                                 |  13% \u001b[A\u001b[A\u001b[A\u001b[A\u001b[A\n",
      "snowflake-snowpark-p | 2.1 MB    | 2                                     |   1% \u001b[A\n",
      "\n",
      "snowflake-connector- | 1.3 MB    | 4                                     |   1% \u001b[A\u001b[A\n",
      "\n",
      "\n",
      "\n",
      "certifi-2024.7.4     | 159 KB    | ###7                                  |  10% \u001b[A\u001b[A\u001b[A\u001b[A\n",
      "\n",
      "\n",
      "\n",
      "\n",
      "\n",
      "tomlkit-0.11.1       | 100 KB    | #####9                                |  16% \u001b[A\u001b[A\u001b[A\u001b[A\u001b[A\u001b[A\n",
      "\n",
      "\n",
      "\n",
      "\n",
      "\n",
      "\n",
      "pyjwt-2.8.0          | 85 KB     | #######                               |  19% \u001b[A\u001b[A\u001b[A\u001b[A\u001b[A\u001b[A\u001b[A\n",
      "\n",
      "\n",
      "\n",
      "\n",
      "\n",
      "\n",
      "\n",
      "cloudpickle-2.2.1    | 51 KB     | ###########5                          |  31% \u001b[A\u001b[A\u001b[A\u001b[A\u001b[A\u001b[A\u001b[A\u001b[A\n",
      "\n",
      "\n",
      "\n",
      "\n",
      "pyopenssl-24.0.0     | 124 KB    | ##################################### | 100% \u001b[A\u001b[A\u001b[A\u001b[A\u001b[A\n",
      "snowflake-snowpark-p | 2.1 MB    | ###################################1  |  95% \u001b[A\n",
      "\n",
      "\n",
      "\n",
      "\n",
      "\n",
      "\n",
      "\n",
      "\n",
      "sortedcontainers-2.4 | 26 KB     | ######################9               |  62% \u001b[A\u001b[A\u001b[A\u001b[A\u001b[A\u001b[A\u001b[A\u001b[A\u001b[A\n",
      "\n",
      "\n",
      "\n",
      "\n",
      "\n",
      "\n",
      "\n",
      "\n",
      "\n",
      "filelock-3.13.1      | 24 KB     | ########################4             |  66% \u001b[A\u001b[A\u001b[A\u001b[A\u001b[A\u001b[A\u001b[A\u001b[A\u001b[A\u001b[A\n",
      "\n",
      "\n",
      "\n",
      "\n",
      "pyopenssl-24.0.0     | 124 KB    | ##################################### | 100% \u001b[A\u001b[A\u001b[A\u001b[A\u001b[A\n",
      "\n",
      "\n",
      "asn1crypto-1.5.1     | 220 KB    | ##################################### | 100% \u001b[A\u001b[A\u001b[A\n",
      "\n",
      "\n",
      "asn1crypto-1.5.1     | 220 KB    | ##################################### | 100% \u001b[A\u001b[A\u001b[A\n",
      "\n",
      "\n",
      "\n",
      "certifi-2024.7.4     | 159 KB    | ##################################### | 100% \u001b[A\u001b[A\u001b[A\u001b[A\n",
      "\n",
      "\n",
      "\n",
      "certifi-2024.7.4     | 159 KB    | ##################################### | 100% \u001b[A\u001b[A\u001b[A\u001b[A\n",
      "\n",
      "\n",
      "\n",
      "\n",
      "\n",
      "tomlkit-0.11.1       | 100 KB    | ##################################### | 100% \u001b[A\u001b[A\u001b[A\u001b[A\u001b[A\u001b[A\n",
      "\n",
      "\n",
      "\n",
      "\n",
      "\n",
      "tomlkit-0.11.1       | 100 KB    | ##################################### | 100% \u001b[A\u001b[A\u001b[A\u001b[A\u001b[A\u001b[A\n",
      "\n",
      "\n",
      "\n",
      "\n",
      "\n",
      "\n",
      "\n",
      "cloudpickle-2.2.1    | 51 KB     | ##################################### | 100% \u001b[A\u001b[A\u001b[A\u001b[A\u001b[A\u001b[A\u001b[A\u001b[A\n",
      "\n",
      "\n",
      "\n",
      "\n",
      "\n",
      "\n",
      "\n",
      "cloudpickle-2.2.1    | 51 KB     | ##################################### | 100% \u001b[A\u001b[A\u001b[A\u001b[A\u001b[A\u001b[A\u001b[A\u001b[A\n",
      "\n",
      "\n",
      "\n",
      "\n",
      "\n",
      "\n",
      "pyjwt-2.8.0          | 85 KB     | ##################################### | 100% \u001b[A\u001b[A\u001b[A\u001b[A\u001b[A\u001b[A\u001b[A\n",
      "\n",
      "\n",
      "\n",
      "\n",
      "\n",
      "\n",
      "pyjwt-2.8.0          | 85 KB     | ##################################### | 100% \u001b[A\u001b[A\u001b[A\u001b[A\u001b[A\u001b[A\u001b[A\n",
      "\n",
      "snowflake-connector- | 1.3 MB    | ##################################### | 100% \u001b[A\u001b[A\n",
      "\n",
      "cryptography-42.0.5  | 2.1 MB    | ##################################### | 100% \u001b[A\u001b[A\n",
      "\n",
      "\n",
      "\n",
      "\n",
      "\n",
      "\n",
      "\n",
      "\n",
      "sortedcontainers-2.4 | 26 KB     | ##################################### | 100% \u001b[A\u001b[A\u001b[A\u001b[A\u001b[A\u001b[A\u001b[A\u001b[A\u001b[A\n",
      "\n",
      "\n",
      "\n",
      "\n",
      "\n",
      "\n",
      "\n",
      "\n",
      "sortedcontainers-2.4 | 26 KB     | ##################################### | 100% \u001b[A\u001b[A\u001b[A\u001b[A\u001b[A\u001b[A\u001b[A\u001b[A\u001b[A\n",
      "\n",
      "\n",
      "\n",
      "\n",
      "\n",
      "\n",
      "\n",
      "\n",
      "\n",
      "filelock-3.13.1      | 24 KB     | ##################################### | 100% \u001b[A\u001b[A\u001b[A\u001b[A\u001b[A\u001b[A\u001b[A\u001b[A\u001b[A\u001b[A\n",
      "\n",
      "\n",
      "\n",
      "\n",
      "\n",
      "\n",
      "\n",
      "\n",
      "\n",
      "filelock-3.13.1      | 24 KB     | ##################################### | 100% \u001b[A\u001b[A\u001b[A\u001b[A\u001b[A\u001b[A\u001b[A\u001b[A\u001b[A\u001b[A\n",
      "                                                                                \u001b[A\n",
      "                                                                                \u001b[A\n",
      "\n",
      "                                                                                \u001b[A\u001b[A\n",
      "\n",
      "\n",
      "                                                                                \u001b[A\u001b[A\u001b[A\n",
      "\n",
      "\n",
      "\n",
      "                                                                                \u001b[A\u001b[A\u001b[A\u001b[A\n",
      "\n",
      "\n",
      "\n",
      "\n",
      "                                                                                \u001b[A\u001b[A\u001b[A\u001b[A\u001b[A\n",
      "\n",
      "\n",
      "\n",
      "\n",
      "\n",
      "                                                                                \u001b[A\u001b[A\u001b[A\u001b[A\u001b[A\u001b[A\n",
      "\n",
      "\n",
      "\n",
      "\n",
      "\n",
      "\n",
      "                                                                                \u001b[A\u001b[A\u001b[A\u001b[A\u001b[A\u001b[A\u001b[A\n",
      "\n",
      "\n",
      "\n",
      "\n",
      "\n",
      "\n",
      "\n",
      "                                                                                \u001b[A\u001b[A\u001b[A\u001b[A\u001b[A\u001b[A\u001b[A\u001b[A\n",
      "\n",
      "\n",
      "\n",
      "\n",
      "\n",
      "\n",
      "\n",
      "\n",
      "                                                                                \u001b[A\u001b[A\u001b[A\u001b[A\u001b[A\u001b[A\u001b[A\u001b[A\u001b[A\n",
      "\n",
      "\n",
      "\n",
      "\n",
      "\n",
      "\n",
      "\n",
      "\n",
      "\n",
      "                                                                                \u001b[A\u001b[A\u001b[A\u001b[A\u001b[A\u001b[A\u001b[A\u001b[A\u001b[A\u001b[A\n",
      "Preparing transaction: done\n",
      "Verifying transaction: done\n",
      "Executing transaction: done\n"
     ]
    }
   ],
   "source": [
    "!conda install snowflake-snowpark-python -y"
   ]
  },
  {
   "cell_type": "markdown",
   "id": "0df2e1bd-fb6b-49c5-b112-2a845e7227b2",
   "metadata": {},
   "source": [
    "# THE **E**\n",
    "## Snowpark Usage - Example"
   ]
  },
  {
   "cell_type": "code",
   "execution_count": 42,
   "id": "35f770dc-3e10-47e5-8968-5733c5e434d6",
   "metadata": {},
   "outputs": [],
   "source": [
    "from snowflake.snowpark import Session"
   ]
  },
  {
   "cell_type": "markdown",
   "id": "045ac1ce-6911-48fb-949d-e0b4ee800cb5",
   "metadata": {},
   "source": [
    "Example of how the `snow.cfg` file looks like\n",
    "\n",
    "```yaml\n",
    "[SNOW]\n",
    "ACCOUNT=WPA36811\n",
    "USER=tarek\n",
    "PASSWORD=yourpassowrd\n",
    "WAREHOUSE=COMPUTE_WH\n",
    "DATABASE=TECHCATALYST_DE\n",
    "SCHEMA=PUBLIC\n",
    "ROLE=DE\n",
    "```"
   ]
  },
  {
   "cell_type": "code",
   "execution_count": 43,
   "id": "9f5a8617-6c69-4c33-9922-10db5945bf6d",
   "metadata": {},
   "outputs": [
    {
     "data": {
      "text/plain": [
       "['SNOW']"
      ]
     },
     "execution_count": 43,
     "metadata": {},
     "output_type": "execute_result"
    }
   ],
   "source": [
    "import configparser\n",
    "\n",
    "config = configparser.ConfigParser()\n",
    "config.read('snow.cfg')\n",
    "config.sections()"
   ]
  },
  {
   "cell_type": "markdown",
   "id": "0f534033-4900-42eb-8a4f-6717d880830e",
   "metadata": {},
   "source": [
    "Create a dictionary (key-value) of the parameters"
   ]
  },
  {
   "cell_type": "code",
   "execution_count": 44,
   "id": "958abed0-2533-4a1e-b80d-dafff723888b",
   "metadata": {},
   "outputs": [],
   "source": [
    "params1 = dict(config['SNOW'])"
   ]
  },
  {
   "cell_type": "markdown",
   "id": "5ea19238-50be-49b7-84d9-3e40d72915cd",
   "metadata": {},
   "source": [
    "Passing the parameters as a dictionary to Session"
   ]
  },
  {
   "cell_type": "code",
   "execution_count": 45,
   "id": "bf636e8e-8056-4602-b3b5-8fa23f2619e5",
   "metadata": {},
   "outputs": [],
   "source": [
    "session1 = Session.builder.configs(params1).create()"
   ]
  },
  {
   "cell_type": "code",
   "execution_count": 46,
   "id": "706059ab-b8fa-47e5-85e6-d777502dff57",
   "metadata": {},
   "outputs": [
    {
     "name": "stdout",
     "output_type": "stream",
     "text": [
      "\"Zayd_Ghaffar\"\n",
      "\"TECHCATALYST_DE\"\n",
      "\"ZAYD\"\n"
     ]
    }
   ],
   "source": [
    "print(session1.get_current_user())\n",
    "print(session1.get_current_database())\n",
    "print(session1.get_current_schema())"
   ]
  },
  {
   "cell_type": "markdown",
   "id": "a7b0c0ad-b6cc-4d15-8015-dc0aa7c4542d",
   "metadata": {},
   "source": [
    "Example using the `table` methods to call a specific table. In this example I am calling the `INS_ACCIDENTS` table"
   ]
  },
  {
   "cell_type": "code",
   "execution_count": 47,
   "id": "cd754c8d-e989-42d0-8f02-fd76e4289e7f",
   "metadata": {
    "scrolled": true
   },
   "outputs": [
    {
     "name": "stdout",
     "output_type": "stream",
     "text": [
      "-------------------------------------------------------------------------------------------------------------------------------------------------------\n",
      "|\"ACCIDENT_ID\"  |\"POLICYHOLDER_ID\"  |\"VEHICLE_ID\"  |\"ACCIDENT_TYPE\"  |\"ACCIDENT_DATE\"  |\"ESTIMATED_COST\"  |\"ACTUAL_REPAIR_COST\"  |\"AT_FAULT\"  |\"DUI\"  |\n",
      "-------------------------------------------------------------------------------------------------------------------------------------------------------\n",
      "|1              |4333               |176           |3                |2022-03-30       |6694              |7480                  |True        |True   |\n",
      "|2              |4547               |6391          |4                |2023-09-27       |2190              |3355                  |True        |False  |\n",
      "|3              |6686               |6974          |7                |2022-06-13       |4995              |7123                  |False       |False  |\n",
      "|4              |1300               |4037          |7                |2020-01-21       |694               |850                   |False       |False  |\n",
      "|5              |1638               |6061          |7                |2019-01-11       |8939              |11116                 |False       |False  |\n",
      "-------------------------------------------------------------------------------------------------------------------------------------------------------\n",
      "\n"
     ]
    }
   ],
   "source": [
    "accidents = session1.table(\"INS_ACCIDENTS\")\n",
    "accident_type = session1.table(\"INS_ACCIDENT_TYPE\")\n",
    "body_style = session1.table(\"INS_BODY_STYLE\")\n",
    "gmstatus = session1.table(\"INS_GENDER_MARITAL_STATUS\")\n",
    "coverage = session1.table(\"INS_INSURANCE_COVERAGE\")\n",
    "policyholder = session1.table(\"INS_POLICYHOLDER\")\n",
    "states = session1.table(\"INS_STATES\")\n",
    "v = session1.table(\"INS_VEHICLE\")\n",
    "vu = session1.table(\"INS_VEHICLE_USE\")\n",
    "vuc = session1.table(\"INS_VEHICLE_USE_CODE\")\n",
    "\n",
    "\n",
    "\n",
    "accidents.show(5)"
   ]
  },
  {
   "cell_type": "markdown",
   "id": "1b22e132-97a2-4acd-9581-a6b61ab1fc61",
   "metadata": {},
   "source": [
    "Note, `accidents` is a Snowpark object (table). There is a difference between Snowpark DataFrames and Panda DataFrames. For now, you will convert to a Pandas DataFrame to do your transformations. Once done, you will convert back to a Snowpark DataFrame and write to the Database."
   ]
  },
  {
   "cell_type": "code",
   "execution_count": 48,
   "id": "523d44b5-a4dc-4654-912f-4f043fc61d04",
   "metadata": {},
   "outputs": [
    {
     "name": "stdout",
     "output_type": "stream",
     "text": [
      "-------------------------------------------------------------------------------------------------------------------------------------------------------\n",
      "|\"ACCIDENT_ID\"  |\"POLICYHOLDER_ID\"  |\"VEHICLE_ID\"  |\"ACCIDENT_TYPE\"  |\"ACCIDENT_DATE\"  |\"ESTIMATED_COST\"  |\"ACTUAL_REPAIR_COST\"  |\"AT_FAULT\"  |\"DUI\"  |\n",
      "-------------------------------------------------------------------------------------------------------------------------------------------------------\n",
      "|1              |4333               |176           |3                |2022-03-30       |6694              |7480                  |True        |True   |\n",
      "|2              |4547               |6391          |4                |2023-09-27       |2190              |3355                  |True        |False  |\n",
      "|3              |6686               |6974          |7                |2022-06-13       |4995              |7123                  |False       |False  |\n",
      "|4              |1300               |4037          |7                |2020-01-21       |694               |850                   |False       |False  |\n",
      "|5              |1638               |6061          |7                |2019-01-11       |8939              |11116                 |False       |False  |\n",
      "-------------------------------------------------------------------------------------------------------------------------------------------------------\n",
      "\n"
     ]
    }
   ],
   "source": [
    "accidents = session1.table(\"INS_ACCIDENTS\")\n",
    "accident_type = session1.table(\"INS_ACCIDENT_TYPE\")\n",
    "body_style = session1.table(\"INS_BODY_STYLE\")\n",
    "gmstatus = session1.table(\"INS_GENDER_MARITAL_STATUS\")\n",
    "coverage = session1.table(\"INS_INSURANCE_COVERAGE\")\n",
    "policyholder = session1.table(\"INS_POLICYHOLDER\")\n",
    "states = session1.table(\"INS_STATES\")\n",
    "v = session1.table(\"INS_VEHICLES\")\n",
    "vu = session1.table(\"INS_VEHICLE_USE\")\n",
    "vuc= session1.table(\"INS_VEHICLE_USE_CODE\")\n",
    "\n",
    "\n",
    "\n",
    "accidents.show(5)"
   ]
  },
  {
   "cell_type": "code",
   "execution_count": 49,
   "id": "a17fdcaf-47bc-4bdf-a589-4265c4f369ce",
   "metadata": {},
   "outputs": [
    {
     "data": {
      "text/plain": [
       "snowflake.snowpark.table.Table"
      ]
     },
     "execution_count": 49,
     "metadata": {},
     "output_type": "execute_result"
    }
   ],
   "source": [
    "type(accidents)"
   ]
  },
  {
   "cell_type": "code",
   "execution_count": 50,
   "id": "a108927f-1f97-4264-833d-06cc4499c43e",
   "metadata": {},
   "outputs": [],
   "source": [
    "accidents_df = accidents.to_pandas()\n",
    "accident_type_df = accident_type.to_pandas()\n",
    "body_style_df= body_style.to_pandas()\n",
    "gmstatus_df = gmstatus.to_pandas()\n",
    "coverage_df = coverage.to_pandas()\n",
    "ph_df = policyholder.to_pandas()\n",
    "states_df = states.to_pandas()\n",
    "v_df = v.to_pandas()\n",
    "vu_df = vu.to_pandas()\n",
    "vuc_df = vuc.to_pandas()"
   ]
  },
  {
   "cell_type": "code",
   "execution_count": 51,
   "id": "91c05750-2f2c-4758-895d-3bb4a73bda58",
   "metadata": {},
   "outputs": [
    {
     "name": "stdout",
     "output_type": "stream",
     "text": [
      "<class 'pandas.core.frame.DataFrame'>\n",
      "RangeIndex: 10000 entries, 0 to 9999\n",
      "Data columns (total 4 columns):\n",
      " #   Column           Non-Null Count  Dtype\n",
      "---  ------           --------------  -----\n",
      " 0   VEHICLE_ID       10000 non-null  int16\n",
      " 1   POLICYHOLDER_ID  10000 non-null  int16\n",
      " 2   BODY_STYLE_CODE  10000 non-null  int8 \n",
      " 3   YEAR             10000 non-null  int16\n",
      "dtypes: int16(3), int8(1)\n",
      "memory usage: 68.5 KB\n"
     ]
    }
   ],
   "source": [
    "# accidents_df.info()\n",
    "# vuc_df.info()\n",
    "v_df.info()"
   ]
  },
  {
   "cell_type": "markdown",
   "id": "ac183ff1-b00b-4e87-ac35-2e5403739b8d",
   "metadata": {},
   "source": [
    "# The **T**\n",
    "## Your Work Here (Transformations)"
   ]
  },
  {
   "cell_type": "code",
   "execution_count": 52,
   "id": "f9a30545-3085-412b-b4c9-a05f5aed8c89",
   "metadata": {},
   "outputs": [],
   "source": [
    "import pandas as pd\n",
    "dim_at_df = pd.DataFrame()\n",
    "dim_at_df['ACCIDENT_TYPE_ID'] = accident_type_df['ACCIDENT_TYPE_CODE']\n",
    "dim_at_df['ACCIDENT_TYPE'] = accident_type_df['ACCIDENT_TYPE']"
   ]
  },
  {
   "cell_type": "code",
   "execution_count": 53,
   "id": "c31997c2-0dac-48cf-a545-6c3b2eab046e",
   "metadata": {},
   "outputs": [],
   "source": [
    "dim_bs_df = pd.DataFrame()\n",
    "dim_bs_df['BODY_STYLE'] = body_style_df['BODY_STYLE']\n",
    "dim_bs_df['BODY_STYLE_ID'] = body_style_df['BODY_STYLE_CODE']"
   ]
  },
  {
   "cell_type": "code",
   "execution_count": 54,
   "id": "340f8aaf-46da-40d3-b464-04e36f350203",
   "metadata": {},
   "outputs": [],
   "source": [
    "dim_ph_df = pd.DataFrame()\n",
    "dim_ph_df['ADDRESS'] = ph_df['ADDRESS']\n",
    "dim_ph_df['FIRST_NAME'] = ph_df['FIRST_NAME']\n",
    "dim_ph_df['LAST_NAME'] = ph_df['LAST_NAME']\n",
    "dim_ph_df['POLICYHOLDER_ID'] = ph_df['POLICYHOLDER_ID']"
   ]
  },
  {
   "cell_type": "code",
   "execution_count": 55,
   "id": "ab81532b-2f93-4a13-bf78-92c490da987d",
   "metadata": {},
   "outputs": [],
   "source": [
    "dim_st_df = pd.DataFrame()\n",
    "dim_st_df['STATE'] = states_df['STATE']\n",
    "dim_st_df['STATE_ID'] = states_df['STATE_CODE']"
   ]
  },
  {
   "cell_type": "code",
   "execution_count": 56,
   "id": "2024c454-d0a2-4946-bd90-45c640536ba2",
   "metadata": {},
   "outputs": [],
   "source": [
    "dim_gm_df = pd.DataFrame()\n",
    "dim_gm_df['GENDER_MARITALSTATUS_ID'] = gmstatus_df['GENDER_MARITAL_STATUS_CODE']\n",
    "dim_gm_df['GENDER_MARITAL_STATUS'] = gmstatus_df['GENDER_MARITAL_STATUS']"
   ]
  },
  {
   "cell_type": "code",
   "execution_count": 57,
   "id": "4d6514bd-bbeb-4d2e-a51f-418da1877061",
   "metadata": {},
   "outputs": [],
   "source": [
    "dim_vu_df = pd.DataFrame()\n",
    "dim_vu_df['VEHICLE_USE'] = vu_df['USE_ID']\n",
    "dim_vu_df['VEHICLE_USECODE_ID'] = vu_df['USE_CODE']"
   ]
  },
  {
   "cell_type": "code",
   "execution_count": 60,
   "id": "bfcdc747-a3d7-448e-bda9-651cd2b65f45",
   "metadata": {},
   "outputs": [
    {
     "data": {
      "text/plain": [
       "Index(['ACCIDENT_DATE', 'ACCIDENT_ID', 'ACCIDENT_TYPE_CODE',\n",
       "       'ACTUAL_REPAIR_COST', 'AT_FAULT', 'BODY_STYLE_CODE', 'COVERAGE_STATUS',\n",
       "       'ESTIMATED_COST', 'GENDER_MARITAL_STATUS_CODE', 'DUI', 'BIRTHDATE',\n",
       "       'POLICYHOLDER_ID', 'STATE_CODE', 'VEHICLE_ID', 'USE_CODE', 'YEAR'],\n",
       "      dtype='object')"
      ]
     },
     "execution_count": 60,
     "metadata": {},
     "output_type": "execute_result"
    }
   ],
   "source": [
    "# accidents_df = accidents.to_pandas()\n",
    "# accident_type_df = accident_type.to_pandas()\n",
    "# body_style_df= body_style.to_pandas()\n",
    "# gmstatus_df = gmstatus.to_pandas()\n",
    "# coverage_df = coverage.to_pandas()\n",
    "# ph_df = policyholder.to_pandas()\n",
    "# states_df = states.to_pandas()\n",
    "# v_df = v.to_pandas()\n",
    "# vu_df = vu.to_pandas()\n",
    "# vuc_df = vuc.to_pandas()\n",
    "fa_df = pd.DataFrame()\n",
    " \n",
    "fa_df = pd.merge(accidents_df, accident_type_df.drop(columns='ACCIDENT_TYPE'), left_on = 'ACCIDENT_TYPE', right_on='ACCIDENT_TYPE_CODE', how='inner')\n",
    "fa_df = pd.merge(fa_df, ph_df, on = 'POLICYHOLDER_ID', how=\"inner\")\n",
    "fa_df = pd.merge(fa_df, v_df.drop(columns='POLICYHOLDER_ID'), on = 'VEHICLE_ID', how=\"inner\")\n",
    "fa_df = pd.merge(fa_df, states_df, on = 'STATE_CODE', how=\"inner\")\n",
    "fa_df = pd.merge(fa_df, coverage_df, on = 'POLICYHOLDER_ID', how=\"inner\")\n",
    "fa_df = pd.merge(fa_df, gmstatus_df.drop(columns='GENDER_MARITAL_STATUS'), left_on = 'GENDER_MARITAL_STATUS', right_on='GENDER_MARITAL_STATUS_CODE', how=\"inner\")\n",
    "fa_df = pd.merge(fa_df, body_style_df, on = 'BODY_STYLE_CODE', how=\"inner\")\n",
    "fa_df = pd.merge(fa_df, vu_df, on = 'VEHICLE_ID', how=\"inner\")\n",
    "\n",
    "\n",
    "# fa_df.head()\n",
    "fa_order_df = fa_df[['ACCIDENT_DATE', 'ACCIDENT_ID', 'ACCIDENT_TYPE_CODE', 'ACTUAL_REPAIR_COST', 'AT_FAULT', 'BODY_STYLE_CODE', 'COVERAGE_STATUS', 'ESTIMATED_COST', 'GENDER_MARITAL_STATUS_CODE', 'DUI', 'BIRTHDATE', 'POLICYHOLDER_ID', 'STATE_CODE', 'VEHICLE_ID', 'USE_CODE','YEAR']]\n",
    "\n",
    "fa_order_df.head()\n",
    "fa_order_df.columns"
   ]
  },
  {
   "cell_type": "code",
   "execution_count": 63,
   "id": "8d82ff4f-76ea-4964-b8ab-d0c4c9c5099c",
   "metadata": {},
   "outputs": [
    {
     "data": {
      "text/plain": [
       "(6383, 16)"
      ]
     },
     "execution_count": 63,
     "metadata": {},
     "output_type": "execute_result"
    }
   ],
   "source": [
    "fa_order_df.rename(columns= {'ACCIDENT_TYPE_CODE':'ACCIDENT_TYPE_ID', 'BODY_STYLE_CODE':'BODY_STYLE_ID', 'GENDER_MARITAL_STATUS_CODE':'GENDER_MARITAL_STATUS_ID', 'DUI':'IS_DUI', 'BIRTHDATE':'PLACEHOLDER_BIRTHDATE', 'STATE_CODE':'STATE_ID', 'USE_CODE':'VEHICLE_USECODE_ID', 'YEAR':'VEHICLE_YEAR'})\n",
    "\n",
    "fa_final = fa_order_df.drop_duplicates()\n",
    "fa_final = fa_final.reset_index(drop = True)\n",
    "\n",
    "fa_final.shape"
   ]
  },
  {
   "cell_type": "markdown",
   "id": "db42f8a7-c18a-4c11-9a3b-c2fa233f7e36",
   "metadata": {},
   "source": [
    "# THE **L**\n",
    "## Write to Snowflak"
   ]
  },
  {
   "cell_type": "markdown",
   "id": "94f03f9c-152f-4522-ba9c-dbb20dcf74d2",
   "metadata": {},
   "source": [
    "To avoid mistakes, make sure you use your schema. "
   ]
  },
  {
   "cell_type": "code",
   "execution_count": 64,
   "id": "88f36951-c946-41d0-b0f9-597b5d001c67",
   "metadata": {},
   "outputs": [
    {
     "name": "stdout",
     "output_type": "stream",
     "text": [
      "techcatalyst_de.ZAYD\n"
     ]
    }
   ],
   "source": [
    "yourschema = 'ZAYD'\n",
    "location = f'techcatalyst_de.{yourschema}'\n",
    "print(location)"
   ]
  },
  {
   "cell_type": "markdown",
   "id": "902e4c40-5b47-4c04-8275-2df04fb735e7",
   "metadata": {},
   "source": [
    "Convert the Pandas DataFrame into a Snowpark DataFrame"
   ]
  },
  {
   "cell_type": "code",
   "execution_count": 66,
   "id": "40f29921-a7a5-4f12-a2cf-0f914f6d27ce",
   "metadata": {},
   "outputs": [],
   "source": [
    "fa_sdf = session1.create_dataframe(fa_final)\n",
    "at_sdf = session1.create_dataframe(dim_at_df)\n",
    "bs_sdf = session1.create_dataframe(dim_bs_df)\n",
    "ph_sdf = session1.create_dataframe(dim_ph_df)\n",
    "st_sdf = session1.create_dataframe(dim_st_df)\n",
    "gm_sdf = session1.create_dataframe(dim_gm_df)\n",
    "vu_sdf = session1.create_dataframe(dim_vu_df)\n",
    "\n"
   ]
  },
  {
   "cell_type": "code",
   "execution_count": 133,
   "id": "b90c1104-0d7d-4485-89ee-484812c416e3",
   "metadata": {},
   "outputs": [
    {
     "name": "stdout",
     "output_type": "stream",
     "text": [
      "<class 'pandas.core.frame.DataFrame'>\n",
      "<class 'snowflake.snowpark.table.Table'>\n"
     ]
    }
   ],
   "source": [
    "print(type(accidents_df))\n",
    "print(type(accidents_sdf))"
   ]
  },
  {
   "cell_type": "markdown",
   "id": "7135f675-e368-4c20-9264-14bf36bbabe6",
   "metadata": {},
   "source": [
    "When using the `write.mode()` method there are different options:\n",
    "\n",
    "* ”`append`”: Append data of this DataFrame to the existing table. Creates a table if it does not exist.\n",
    "\n",
    "* ”`overwrite`”: Overwrite the existing table by dropping old table.\n",
    "\n",
    "* ”`truncate`”: Overwrite the existing table by truncating old table.\n",
    "\n",
    "* ”`errorifexists`”: Throw an exception if the table already exists.\n",
    "\n",
    "* ”`ignore`”: Ignore this operation if the table already exists.\n",
    "\n",
    "* Default value is “`errorifexists`”."
   ]
  },
  {
   "cell_type": "code",
   "execution_count": 68,
   "id": "16638820-d8f8-4cdf-9d03-3fed266ec032",
   "metadata": {},
   "outputs": [],
   "source": [
    "# example using overwrite\n",
    "\n",
    "# accidents_sdf.write.mode(\"overwrite\").save_as_table(f\"{location}.tatwan_test\")\n",
    "fa_sdf = session1.create_dataframe(fa_final)\n",
    "fa_sdf.write.mode(\"overwrite\").save_as_table(f\"{location}.PY_FACT_ACCIDENT\")\n",
    "at_sdf = session1.create_dataframe(dim_at_df)\n",
    "at_sdf.write.mode(\"overwrite\").save_as_table(f\"{location}.PY_DIM_ACCIDENT_TYPE\")\n",
    "bs_sdf = session1.create_dataframe(dim_bs_df)\n",
    "bs_sdf.write.mode(\"overwrite\").save_as_table(f\"{location}.PY_BODY_STYLE\")\n",
    "gm_sdf = session1.create_dataframe(dim_gm_df)\n",
    "gm_sdf.write.mode(\"overwrite\").save_as_table(f\"{location}.PY_DIM_GENDER_MARITAL\")\n",
    "ph_sdf = session1.create_dataframe(dim_ph_df)\n",
    "ph_sdf.write.mode(\"overwrite\").save_as_table(f\"{location}.PY_DIM_POLICYHOLDER\")\n",
    "st_sdf = session1.create_dataframe(dim_st_df)\n",
    "st_sdf.write.mode(\"overwrite\").save_as_table(f\"{location}.PY_DIM_STATES\")\n",
    "vu_sdf = session1.create_dataframe(dim_vu_df)\n",
    "vu_sdf.write.mode(\"overwrite\").save_as_table(f\"{location}.PY_VEHICLE_USE\")"
   ]
  },
  {
   "cell_type": "code",
   "execution_count": null,
   "id": "5c2948fa-a573-4638-bbe1-b6bc488fdc5c",
   "metadata": {},
   "outputs": [],
   "source": []
  }
 ],
 "metadata": {
  "kernelspec": {
   "display_name": "Python [conda env:dev1]",
   "language": "python",
   "name": "conda-env-dev1-py"
  },
  "language_info": {
   "codemirror_mode": {
    "name": "ipython",
    "version": 3
   },
   "file_extension": ".py",
   "mimetype": "text/x-python",
   "name": "python",
   "nbconvert_exporter": "python",
   "pygments_lexer": "ipython3",
   "version": "3.11.9"
  }
 },
 "nbformat": 4,
 "nbformat_minor": 5
}
